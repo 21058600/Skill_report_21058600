{
 "cells": [
  {
   "cell_type": "code",
   "execution_count": 3,
   "id": "d6b6c422",
   "metadata": {},
   "outputs": [],
   "source": [
    "import hashlib\n",
    "from PIL import Image\n",
    "import io\n",
    "import time\n",
    "import os\n",
    "import requests\n",
    "from selenium import webdriver"
   ]
  },
  {
   "cell_type": "code",
   "execution_count": 4,
   "id": "00f95686",
   "metadata": {},
   "outputs": [
    {
     "name": "stderr",
     "output_type": "stream",
     "text": [
      "<ipython-input-4-854943276b53>:6: DeprecationWarning: executable_path has been deprecated, please pass in a Service object\n",
      "  wd = webdriver.Chrome(executable_path=DRIVER_PATH)\n"
     ]
    }
   ],
   "source": [
    "from selenium import webdriver \n",
    "# This is the path I use\n",
    "# DRIVER_PATH = '.../Desktop/Scraping/chromedriver 2'\n",
    "# Put the path for your ChromeDriver here\n",
    "DRIVER_PATH = \"C:/Users/45176/Desktop/chromedriver_win32/chromedriver\"\n",
    "wd = webdriver.Chrome(executable_path=DRIVER_PATH)"
   ]
  },
  {
   "cell_type": "code",
   "execution_count": 5,
   "id": "823c8339",
   "metadata": {},
   "outputs": [],
   "source": [
    "wd.get('https://google.com')"
   ]
  },
  {
   "cell_type": "code",
   "execution_count": 6,
   "id": "33489040",
   "metadata": {
    "scrolled": true
   },
   "outputs": [
    {
     "name": "stderr",
     "output_type": "stream",
     "text": [
      "<ipython-input-6-acd1f55d3b11>:1: DeprecationWarning: find_element_by_* commands are deprecated. Please use find_element() instead\n",
      "  search_box = wd.find_element_by_css_selector('input.gLFyf')\n"
     ]
    }
   ],
   "source": [
    "search_box = wd.find_element_by_css_selector('input.gLFyf')\n",
    "search_box.send_keys('Cats')"
   ]
  },
  {
   "cell_type": "code",
   "execution_count": 7,
   "id": "8d26f790",
   "metadata": {},
   "outputs": [],
   "source": [
    "wd.quit()"
   ]
  },
  {
   "cell_type": "code",
   "execution_count": 13,
   "id": "f2745f44",
   "metadata": {},
   "outputs": [],
   "source": [
    "def fetch_image_urls(query:str, max_links_to_fetch:int, wd:webdriver, sleep_between_interactions:int=1):\n",
    "    def scroll_to_end(wd):\n",
    "        wd.execute_script(\"window.scrollTo(0, document.body.scrollHeight);\")\n",
    "        time.sleep(sleep_between_interactions)    \n",
    "    \n",
    "    # build the google query\n",
    "    search_url = \"https://www.google.com/search?safe=off&site=&tbm=isch&source=hp&q={Dog}&oq={Dog}&gs_l=img\"\n",
    "\n",
    "    # load the page\n",
    "    wd.get(search_url.format(Dog=query))\n",
    "\n",
    "    image_urls = set()\n",
    "    image_count = 0\n",
    "    results_start = 0\n",
    "    while image_count < max_links_to_fetch:\n",
    "        scroll_to_end(wd)\n",
    "\n",
    "        # get all image thumbnail results\n",
    "        thumbnail_results = wd.find_elements_by_css_selector(\"img.Q4LuWd\")\n",
    "        number_results = len(thumbnail_results)\n",
    "        \n",
    "        print(f\"Found: {number_results} search results. Extracting links from {results_start}:{number_results}\")\n",
    "        \n",
    "        for img in thumbnail_results[results_start:number_results]:\n",
    "            # try to click every thumbnail such that we can get the real image behind it\n",
    "            try:\n",
    "                img.click()\n",
    "                time.sleep(sleep_between_interactions)\n",
    "            except Exception:\n",
    "                continue\n",
    "\n",
    "            # extract image urls    \n",
    "            actual_images = wd.find_elements_by_css_selector('img.n3VNCb')\n",
    "            for actual_image in actual_images:\n",
    "                if actual_image.get_attribute('src') and 'http' in actual_image.get_attribute('src'):\n",
    "                    image_urls.add(actual_image.get_attribute('src'))\n",
    "\n",
    "            image_count = len(image_urls)\n",
    "\n",
    "            if len(image_urls) >= max_links_to_fetch:\n",
    "                print(f\"Found: {len(image_urls)} image links, done!\")\n",
    "                break\n",
    "        else:\n",
    "            print(\"Found:\", len(image_urls), \"image links, looking for more ...\")\n",
    "            time.sleep(30)\n",
    "            return\n",
    "            load_more_button = wd.find_element_by_css_selector(\".mye4qd\")\n",
    "            if load_more_button:\n",
    "                wd.execute_script(\"document.querySelector('.mye4qd').click();\")\n",
    "\n",
    "        # move the result startpoint further down\n",
    "        results_start = len(thumbnail_results)\n",
    "\n",
    "    return image_urls"
   ]
  },
  {
   "cell_type": "code",
   "execution_count": 14,
   "id": "0fcd786c",
   "metadata": {},
   "outputs": [
    {
     "name": "stdout",
     "output_type": "stream",
     "text": [
      "Requirement already satisfied: Pillow in d:\\software\\anaconda3\\lib\\site-packages (8.2.0)Note: you may need to restart the kernel to use updated packages.\n",
      "\n"
     ]
    }
   ],
   "source": [
    "pip install Pillow"
   ]
  },
  {
   "cell_type": "code",
   "execution_count": 15,
   "id": "05db1e22",
   "metadata": {},
   "outputs": [],
   "source": [
    "def persist_image(folder_path:str,url:str):\n",
    "    try:\n",
    "        image_content = requests.get(url).content\n",
    "\n",
    "    except Exception as e:\n",
    "        print(f\"ERROR - Could not download {url} - {e}\")\n",
    "\n",
    "    try:\n",
    "        image_file = io.BytesIO(image_content)\n",
    "        image = Image.open(image_file).convert('RGB')\n",
    "        file_path = os.path.join(folder_path,hashlib.sha1(image_content).hexdigest()[:10] + '.jpg')\n",
    "        with open(file_path, 'wb') as f:\n",
    "            image.save(f, \"JPEG\", quality=85)\n",
    "        print(f\"SUCCESS - saved {url} - as {file_path}\")\n",
    "    except Exception as e:\n",
    "        print(f\"ERROR - Could not save {url} - {e}\")"
   ]
  },
  {
   "cell_type": "code",
   "execution_count": 16,
   "id": "bddf462e",
   "metadata": {},
   "outputs": [],
   "source": [
    "def search_and_download(search_term:str,driver_path:str,target_path='./images',number_images=100):\n",
    "    target_folder = os.path.join(target_path,'_'.join(search_term.lower().split(' ')))\n",
    "\n",
    "    if not os.path.exists(target_folder):\n",
    "        os.makedirs(target_folder)\n",
    "\n",
    "    with webdriver.Chrome(executable_path=driver_path) as wd:\n",
    "        res = fetch_image_urls(search_term, number_images, wd=wd, sleep_between_interactions=0.5)\n",
    "        \n",
    "    for elem in res:\n",
    "        persist_image(target_folder,elem)"
   ]
  },
  {
   "cell_type": "code",
   "execution_count": null,
   "id": "efa64641",
   "metadata": {},
   "outputs": [
    {
     "name": "stderr",
     "output_type": "stream",
     "text": [
      "<ipython-input-16-1fe8918b0e55>:7: DeprecationWarning: executable_path has been deprecated, please pass in a Service object\n",
      "  with webdriver.Chrome(executable_path=driver_path) as wd:\n",
      "<ipython-input-13-5cb8dc3b559d>:19: DeprecationWarning: find_elements_by_* commands are deprecated. Please use find_elements() instead\n",
      "  thumbnail_results = wd.find_elements_by_css_selector(\"img.Q4LuWd\")\n"
     ]
    },
    {
     "name": "stdout",
     "output_type": "stream",
     "text": [
      "Found: 100 search results. Extracting links from 0:100\n"
     ]
    },
    {
     "name": "stderr",
     "output_type": "stream",
     "text": [
      "<ipython-input-13-5cb8dc3b559d>:33: DeprecationWarning: find_elements_by_* commands are deprecated. Please use find_elements() instead\n",
      "  actual_images = wd.find_elements_by_css_selector('img.n3VNCb')\n"
     ]
    },
    {
     "name": "stdout",
     "output_type": "stream",
     "text": [
      "Found: 101 image links, done!\n",
      "SUCCESS - saved https://encrypted-tbn0.gstatic.com/images?q=tbn:ANd9GcT_NZukTmUyMB5GKl19VWQGdyRtksWj4Qh51w&usqp=CAU - as ./images\\cat\\a33b0ff887.jpg\n",
      "SUCCESS - saved https://encrypted-tbn0.gstatic.com/images?q=tbn:ANd9GcRuHUlP6F15TiQpEK3oo9uzyvk0gFBypWJqAA&usqp=CAU - as ./images\\cat\\c7d015bbeb.jpg\n",
      "SUCCESS - saved https://encrypted-tbn0.gstatic.com/images?q=tbn:ANd9GcSgnL-6fb5PhgkCkH3odiqgPmhqoWm6HeRjwQ&usqp=CAU - as ./images\\cat\\c7192b5951.jpg\n",
      "SUCCESS - saved https://encrypted-tbn0.gstatic.com/images?q=tbn:ANd9GcT-XfFZZMOj6q6zb-Cux7YDKqterBymd2UcMQ&usqp=CAU - as ./images\\cat\\ec15f2aeef.jpg\n",
      "SUCCESS - saved https://ichef.bbci.co.uk/news/976/cpsprodpb/F00D/production/_121935416_d68a3cbd-75ac-4ac8-ab77-f663a5cf148f.jpg - as ./images\\cat\\1e853dec8d.jpg\n",
      "SUCCESS - saved https://encrypted-tbn0.gstatic.com/images?q=tbn:ANd9GcSdKfbJBWl9rKiLJwCyYGazrxhercRFnOLPOg&usqp=CAU - as ./images\\cat\\44950fa5d0.jpg\n",
      "SUCCESS - saved https://media.newyorker.com/photos/5dfab39dde5fcf00086aec77/16:9/w_2559,h_1439,c_limit/Lane-Cats.jpg - as ./images\\cat\\e0f1b5db98.jpg\n",
      "SUCCESS - saved https://icatcare.org/app/uploads/2018/07/Elderly-cats.png - as ./images\\cat\\86b6519855.jpg\n",
      "SUCCESS - saved https://cdn.britannica.com/q:60/91/181391-050-1DA18304/cat-toes-paw-number-paws-tiger-tabby.jpg - as ./images\\cat\\0b54dde5f5.jpg\n",
      "SUCCESS - saved https://encrypted-tbn0.gstatic.com/images?q=tbn:ANd9GcTcpc8ejmQTx8YEPGFdYUVnjc8p759Qz-R0Lg&usqp=CAU - as ./images\\cat\\c33048e4aa.jpg\n",
      "SUCCESS - saved https://encrypted-tbn0.gstatic.com/images?q=tbn:ANd9GcSYZJLT6Q6V673cftVOQor7Sq4pwIaErX8Gmg&usqp=CAU - as ./images\\cat\\72835113a8.jpg\n",
      "SUCCESS - saved https://encrypted-tbn0.gstatic.com/images?q=tbn:ANd9GcQrOPVQcvpz2AjKdURKJ0-FLJp0ctJrI3n9Dw&usqp=CAU - as ./images\\cat\\11c2fa49db.jpg\n",
      "SUCCESS - saved https://encrypted-tbn0.gstatic.com/images?q=tbn:ANd9GcRiUsE1pPOGvHvuyeXiSdvFmpJvlrJy0YJcyw&usqp=CAU - as ./images\\cat\\d3d1ecad63.jpg\n",
      "SUCCESS - saved https://encrypted-tbn0.gstatic.com/images?q=tbn:ANd9GcQtwDUT66rGcuOz3urrDnrpYFWn5dMoWTm-Yg&usqp=CAU - as ./images\\cat\\f25a5f624f.jpg\n",
      "SUCCESS - saved https://upload.wikimedia.org/wikipedia/commons/4/4d/Cat_November_2010-1a.jpg - as ./images\\cat\\a9b866ad8d.jpg\n",
      "SUCCESS - saved https://idsb.tmgrup.com.tr/ly/uploads/images/2021/09/08/thumbs/800x531/142774.jpg - as ./images\\cat\\aaf9e9dd25.jpg\n",
      "SUCCESS - saved https://encrypted-tbn0.gstatic.com/images?q=tbn:ANd9GcRGTuuO-QkQ2u9OBcx1EJvxa4jJhavcjsSBLg&usqp=CAU - as ./images\\cat\\0c89820df3.jpg\n",
      "SUCCESS - saved https://c.ndtvimg.com/2020-08/h5mk7js_cat-generic_625x300_28_August_20.jpg?im=Resize=(1230,900) - as ./images\\cat\\c6c5dd7c24.jpg\n",
      "SUCCESS - saved https://www.history.com/.image/ar_16:9%2Cc_fill%2Ccs_srgb%2Cfl_progressive%2Cg_faces:center%2Cq_auto:good%2Cw_768/MTg0NTEzNzgyNTMyNDE2OTk5/black-cat-gettyimages-901574784.jpg - as ./images\\cat\\50d49a0047.jpg\n",
      "SUCCESS - saved https://i.guim.co.uk/img/media/c5e73ed8e8325d7e79babf8f1ebbd9adc0d95409/2_5_1754_1053/master/1754.jpg?width=1200&height=1200&quality=85&auto=format&fit=crop&s=b6ba011b74a9f7a5c8322fe75478d9df - as ./images\\cat\\4beddd50c5.jpg\n",
      "SUCCESS - saved https://hips.hearstapps.com/hmg-prod.s3.amazonaws.com/images/close-up-of-cat-wearing-sunglasses-while-sitting-royalty-free-image-1571755145.jpg - as ./images\\cat\\bd62f23301.jpg\n",
      "SUCCESS - saved https://cdn.vox-cdn.com/thumbor/3mgMdGUE4G7EAwf-toK8Efs2yw4=/0x98:2560x1438/fit-in/1200x630/cdn.vox-cdn.com/uploads/chorus_asset/file/22438301/fake_cats.jpg - as ./images\\cat\\29b6f561d3.jpg\n",
      "SUCCESS - saved https://images.immediate.co.uk/production/volatile/sites/4/2018/08/iStock_13967830_XLARGE-90f249d.jpg?quality=90&resize=960%2C408 - as ./images\\cat\\fb36f14e1e.jpg\n",
      "SUCCESS - saved https://www.thesprucepets.com/thmb/QDw4vt7XXQejL2IRztKeRLow6hA=/2776x1561/smart/filters:no_upscale()/cat-talk-eyes-553942-hero-df606397b6ff47b19f3ab98589c3e2ce.jpg - as ./images\\cat\\82d6b639c9.jpg\n",
      "SUCCESS - saved https://i.natgeofe.com/n/3861de2a-04e6-45fd-aec8-02e7809f9d4e/02-cat-training-NationalGeographic_1484324_3x4.jpg - as ./images\\cat\\deedc32e6d.jpg\n",
      "SUCCESS - saved https://encrypted-tbn0.gstatic.com/images?q=tbn:ANd9GcQWSOfVKWeUXO1igbOj5_JZ0ZehxDhk0DL2xw&usqp=CAU - as ./images\\cat\\9e74a4f2e8.jpg\n",
      "SUCCESS - saved https://encrypted-tbn0.gstatic.com/images?q=tbn:ANd9GcRkOtZ_GI7ohqAi7rnE5i4jqPxXefnRY8XH2w&usqp=CAU - as ./images\\cat\\9049500963.jpg\n",
      "SUCCESS - saved https://encrypted-tbn0.gstatic.com/images?q=tbn:ANd9GcTLdls-mU0gKRuIC3S3tVwerRTtUHPLD7JxdA&usqp=CAU - as ./images\\cat\\c38571a312.jpg\n",
      "SUCCESS - saved https://cdn.vox-cdn.com/thumbor/WDYEciOUWFz_PvWt-LyhaYeSEyo=/0x0:1548x1024/1400x1050/filters:focal(693x458:939x704):no_upscale()/cdn.vox-cdn.com/uploads/chorus_image/image/65936299/cats4.0.jpg - as ./images\\cat\\f45e02d59a.jpg\n",
      "SUCCESS - saved https://media.npr.org/assets/img/2021/08/17/gettyimages-135773550-bb02ff79dd836d6e4170d4bc555423f24fa29d5e.jpg - as ./images\\cat\\bb02ff79dd.jpg\n",
      "SUCCESS - saved https://encrypted-tbn0.gstatic.com/images?q=tbn:ANd9GcTpuSwh_DY_07CwE4VPd8HDpX1wfLGS_k5aFA&usqp=CAU - as ./images\\cat\\374e672125.jpg\n",
      "SUCCESS - saved https://encrypted-tbn0.gstatic.com/images?q=tbn:ANd9GcR59gy93VgTjlAb8R2ruLYD607S_Sr9fNjdVw&usqp=CAU - as ./images\\cat\\8b537fd540.jpg\n",
      "SUCCESS - saved https://www.thespruce.com/thmb/pdHawqci6b6AFMwdHvcEegsWYnI=/3471x3471/smart/filters:no_upscale()/cat-repellents-to-keep-cats-out-of-your-yard-2132573-hero-23591eb06a8f4c909238657db9fbfb4e.jpg - as ./images\\cat\\8e25ba0a9f.jpg\n",
      "SUCCESS - saved https://encrypted-tbn0.gstatic.com/images?q=tbn:ANd9GcQ0368m9d6iodinCvX4m-Xa36ERR-QpYkdxAQ&usqp=CAU - as ./images\\cat\\087d293433.jpg\n",
      "SUCCESS - saved https://media.npr.org/assets/img/2021/08/11/gettyimages-1279899488_wide-f3860ceb0ef19643c335cb34df3fa1de166e2761-s1100-c50.jpg - as ./images\\cat\\424ea767bb.jpg\n",
      "SUCCESS - saved https://encrypted-tbn0.gstatic.com/images?q=tbn:ANd9GcTpXF01U4JOKhhTVnTNLW7IUMFi9urHPyJRrg&usqp=CAU - as ./images\\cat\\e2abeb666a.jpg\n",
      "SUCCESS - saved https://cdn.mos.cms.futurecdn.net/VSy6kJDNq2pSXsCzb6cvYF-1200-80.jpg - as ./images\\cat\\714ad2cba8.jpg\n",
      "SUCCESS - saved https://static01.nyt.com/images/2021/09/14/science/07CAT-STRIPES/07CAT-STRIPES-mediumSquareAt3X-v2.jpg - as ./images\\cat\\6eb3069036.jpg\n",
      "SUCCESS - saved https://encrypted-tbn0.gstatic.com/images?q=tbn:ANd9GcQnJDodV8KmuRSagRGjosypieKx915fIG0DIJc2B1BRgUR5CAtIpoGRSTEK3rG4Gx0RYZo&usqp=CAU - as ./images\\cat\\44e5b79019.jpg\n",
      "SUCCESS - saved https://encrypted-tbn0.gstatic.com/images?q=tbn:ANd9GcR8IqeKtRQRYNslKdZ_S4vZj30nChI-iFpGqg&usqp=CAU - as ./images\\cat\\09f6dcbf82.jpg\n",
      "SUCCESS - saved https://cdn.theatlantic.com/thumbor/mORGMuM_Oh1Rc3YJzLc3bwoApIY=/1071x0:3826x2755/1080x1080/media/img/mt/2021/07/GettyImages_473437806_copy/original.jpg - as ./images\\cat\\481af552f7.jpg\n",
      "SUCCESS - saved https://images.theconversation.com/files/350865/original/file-20200803-24-50u91u.jpg?ixlib=rb-1.1.0&q=45&auto=format&w=1200&h=1200.0&fit=crop - as ./images\\cat\\eb3d1d378f.jpg\n",
      "SUCCESS - saved https://www.statnews.com/wp-content/uploads/2020/05/GettyImages-513859318.jpg - as ./images\\cat\\0afa863e40.jpg\n",
      "SUCCESS - saved https://media.wired.co.uk/photos/60c8730fa81eb7f50b44037e/3:2/w_3329,h_2219,c_limit/1521-WIRED-Cat.jpeg - as ./images\\cat\\5d480eae56.jpg\n",
      "SUCCESS - saved https://th-thumbnailer.cdn-si-edu.com/bZAar59Bdm95b057iESytYmmAjI=/1400x1050/filters:focal(594x274:595x275)/https://tf-cmsv2-smithsonianmag-media.s3.amazonaws.com/filer/95/db/95db799b-fddf-4fde-91f3-77024442b92d/egypt_kitty_social.jpg - as ./images\\cat\\02b66f0978.jpg\n",
      "SUCCESS - saved https://ichef.bbci.co.uk/news/976/cpsprodpb/12A9B/production/_111434467_gettyimages-1143489763.jpg - as ./images\\cat\\fe23a51b4c.jpg\n",
      "SUCCESS - saved https://cdn.vox-cdn.com/thumbor/39qOT2mBvSzyuLRthZyxxxSXDkg=/1400x1050/filters:format(jpeg)/cdn.vox-cdn.com/uploads/chorus_asset/file/2449662/shutterstock_149489132.0.jpg - as ./images\\cat\\5775b7126e.jpg\n",
      "SUCCESS - saved https://www.rspca.org.uk/documents/1494939/0/what+to+do+with+stray+cats+and+kittens+%283%29.jpg/886bc0d5-1dc5-d2bf-eabd-473fd4d99886?t=1618404272031 - as ./images\\cat\\7f923c6676.jpg\n",
      "SUCCESS - saved https://encrypted-tbn0.gstatic.com/images?q=tbn:ANd9GcSJMRvMpDHj3hIWP8RksfRXE2d9IfmSxEUAWQ&usqp=CAU - as ./images\\cat\\86a101a1ac.jpg\n",
      "SUCCESS - saved https://images2.minutemediacdn.com/image/upload/c_crop,h_1600,w_2378,x_11,y_0/v1628778532/shape/mentalfloss/87226-gettyimages-1247734973.jpg?itok=wNVO1JQG - as ./images\\cat\\f54352b4ff.jpg\n",
      "SUCCESS - saved https://encrypted-tbn0.gstatic.com/images?q=tbn:ANd9GcRCJMCnolskqvU3nv0MOncdUGuhrKvzNyXXBw&usqp=CAU - as ./images\\cat\\92e143ba69.jpg\n",
      "SUCCESS - saved https://encrypted-tbn0.gstatic.com/images?q=tbn:ANd9GcRx5NkLO1kHjI1NVFPzCTYg7MXyplnxYtYUkA&usqp=CAU - as ./images\\cat\\fdde5a8c64.jpg\n",
      "SUCCESS - saved https://encrypted-tbn0.gstatic.com/images?q=tbn:ANd9GcRC0qG8WylPqmd3hHD7JgXuIkC5OemK_wGX_w&usqp=CAU - as ./images\\cat\\3b37db44a1.jpg\n",
      "SUCCESS - saved https://upload.wikimedia.org/wikipedia/commons/thumb/3/3a/Cat03.jpg/1200px-Cat03.jpg - as ./images\\cat\\1438c79e90.jpg\n",
      "SUCCESS - saved https://i.natgeofe.com/n/46b07b5e-1264-42e1-ae4b-8a021226e2d0/domestic-cat_thumb_square.jpg - as ./images\\cat\\fcce4b2423.jpg\n",
      "SUCCESS - saved https://encrypted-tbn0.gstatic.com/images?q=tbn:ANd9GcRopJ5Z5WIfx19Wo91IPJfLE-NRiOMS9qu8lw&usqp=CAU - as ./images\\cat\\7f0b418f72.jpg\n",
      "SUCCESS - saved https://d1wn0q81ehzw6k.cloudfront.net/additional/thul/media/6dfd714b342b11fd?w=890&h=590&crop=1 - as ./images\\cat\\ac00166569.jpg\n",
      "SUCCESS - saved https://icatcare.org/app/uploads/2018/07/Thinking-of-getting-a-cat.png - as ./images\\cat\\4815f8dfaa.jpg\n",
      "SUCCESS - saved https://images.everydayhealth.com/images/pet-health/cs-pet-health-cat-exercises-1440x810.jpg?sfvrsn=2db4aa25_0 - as ./images\\cat\\081e969ab1.jpg\n",
      "SUCCESS - saved https://cdn.theatlantic.com/thumbor/d_NLi03xlxJllzEaXKQfcLenM_8=/1120x0:5600x4480/1080x1080/media/img/mt/2021/05/GettyImages_1218380632/original.jpg - as ./images\\cat\\a3529fbb91.jpg\n",
      "SUCCESS - saved https://hips.hearstapps.com/hmg-prod.s3.amazonaws.com/images/best-girl-cat-names-1606245046.jpg?crop=0.668xw:1.00xh;0.126xw,0&resize=640:* - as ./images\\cat\\51b3fa9416.jpg\n",
      "SUCCESS - saved https://encrypted-tbn0.gstatic.com/images?q=tbn:ANd9GcRCK8yYjQ6igjrAJyCyXUwV6U7RDkLVc4FVnQ&usqp=CAU - as ./images\\cat\\1fae43fe16.jpg\n",
      "SUCCESS - saved https://encrypted-tbn0.gstatic.com/images?q=tbn:ANd9GcQgOQoiWOiwj6_21uZD_q6KTrh2HaqTWYwN5Q&usqp=CAU - as ./images\\cat\\8acb638356.jpg\n",
      "SUCCESS - saved https://media.wired.com/photos/5cdefb92b86e041493d389df/2:1/w_1500,h_750,c_limit/Culture-Grumpy-Cat-487386121.jpg - as ./images\\cat\\da994d9e87.jpg\n",
      "SUCCESS - saved https://encrypted-tbn0.gstatic.com/images?q=tbn:ANd9GcQM1SAQ6S5dgfKysyyLKl78A0pAnGF3JMyQhA&usqp=CAU - as ./images\\cat\\092617b6d8.jpg\n",
      "SUCCESS - saved https://encrypted-tbn0.gstatic.com/images?q=tbn:ANd9GcRkx6Sy9VmSVZ7AceJgWFDlca4YoI6A1UI45Q&usqp=CAU - as ./images\\cat\\bad15c4031.jpg\n",
      "SUCCESS - saved https://cdn.thewirecutter.com/wp-content/media/2021/03/adopting-a-cat-2048px-06052-2x1-1.jpg?auto=webp&quality=75&crop=2:1&width=1024 - as ./images\\cat\\28784f09e7.jpg\n",
      "SUCCESS - saved https://cdn.shopify.com/s/files/1/1788/4235/files/PPF-BlogUpdate-Thumbs_0041_42_Cat-Stages.jpg - as ./images\\cat\\a29b174978.jpg\n",
      "SUCCESS - saved https://images.unsplash.com/photo-1615789591457-74a63395c990?ixlib=rb-1.2.1&ixid=MnwxMjA3fDB8MHxzZWFyY2h8MXx8ZG9tZXN0aWMlMjBjYXR8ZW58MHx8MHx8&w=1000&q=80 - as ./images\\cat\\23545ddabd.jpg\n",
      "SUCCESS - saved https://encrypted-tbn0.gstatic.com/images?q=tbn:ANd9GcSHHPwhRibglaxKr5sav7EXvBr-jGLizfGjHg&usqp=CAU - as ./images\\cat\\98470f6918.jpg\n",
      "SUCCESS - saved https://images.news18.com/ibnlive/uploads/2021/08/1628396465_cat-people.jpg - as ./images\\cat\\5d2939bb26.jpg\n",
      "SUCCESS - saved https://encrypted-tbn0.gstatic.com/images?q=tbn:ANd9GcTjeiOZ4vmdV-ltdJ32X1J2wdEu-ejWGgu7SA&usqp=CAU - as ./images\\cat\\b03673514d.jpg\n",
      "SUCCESS - saved https://static.independent.co.uk/2021/06/16/08/newFile-4.jpg?quality=75&width=982&height=726&auto=webp - as ./images\\cat\\f99b9abdaf.jpg\n",
      "ERROR - Could not save https://www.rd.com/wp-content/uploads/2021/01/GettyImages-1175550351.jpg - cannot identify image file <_io.BytesIO object at 0x00000176EB78FA90>\n",
      "SUCCESS - saved https://www.helpguide.org/wp-content/uploads/man-in-bed-cradling-cat-768.jpg - as ./images\\cat\\88713827d0.jpg\n",
      "SUCCESS - saved https://assets.publishing.service.gov.uk/government/uploads/system/uploads/image_data/file/137286/s300_Untitled_design__15_.png - as ./images\\cat\\7f3834c4d2.jpg\n",
      "SUCCESS - saved https://encrypted-tbn0.gstatic.com/images?q=tbn:ANd9GcT1KV2RTg4UPBZffMFhRxW5gDfzh4upALDyzw&usqp=CAU - as ./images\\cat\\91a0d3b2ac.jpg\n",
      "SUCCESS - saved https://encrypted-tbn0.gstatic.com/images?q=tbn:ANd9GcRVkSKqR24pRN1E02ABfGTbJItewmcFliLMDZxNed9aPBW7GRIZyiQ2b_dgGFCfLM-NsiM&usqp=CAU - as ./images\\cat\\df3e8041c5.jpg\n",
      "SUCCESS - saved https://www.vets4pets.com/siteassets/species/cat/close-up-of-cat.jpg?width=1040 - as ./images\\cat\\b8bfbf8737.jpg\n",
      "SUCCESS - saved https://encrypted-tbn0.gstatic.com/images?q=tbn:ANd9GcTJVcX9dkcB63vFnm-tx0-_8SZbabLFEVEUjQ&usqp=CAU - as ./images\\cat\\f212ec66d2.jpg\n",
      "SUCCESS - saved https://i.ytimg.com/vi/qCkEoI2VauA/maxresdefault.jpg - as ./images\\cat\\93b22d97e5.jpg\n",
      "SUCCESS - saved https://encrypted-tbn0.gstatic.com/images?q=tbn:ANd9GcTKboCkjXUKztIj7P8a5UjeFn0lAMQSp_TqhQ&usqp=CAU - as ./images\\cat\\d711ef5b7b.jpg\n",
      "SUCCESS - saved https://i.guim.co.uk/img/media/26392d05302e02f7bf4eb143bb84c8097d09144b/446_167_3683_2210/master/3683.jpg?width=1200&height=1200&quality=85&auto=format&fit=crop&s=49ed3252c0b2ffb49cf8b508892e452d - as ./images\\cat\\889f1ed0d0.jpg\n",
      "SUCCESS - saved https://encrypted-tbn0.gstatic.com/images?q=tbn:ANd9GcSUOOnxQL0BY_qECFiHIgjyA8KUBmsBRwoXVw&usqp=CAU - as ./images\\cat\\5a020ac132.jpg\n",
      "SUCCESS - saved https://encrypted-tbn0.gstatic.com/images?q=tbn:ANd9GcT-sLgf6bCvUFxwQ_5TnXxSDeK-5dug_kP5Nw&usqp=CAU - as ./images\\cat\\e872673576.jpg\n",
      "SUCCESS - saved https://encrypted-tbn0.gstatic.com/images?q=tbn:ANd9GcSQ6l6_ZQ3VsbCw2Pj2s9cL8eNoz7TzUSFyyA&usqp=CAU - as ./images\\cat\\9083f39335.jpg\n",
      "SUCCESS - saved https://cdn.britannica.com/39/7139-050-A88818BB/Himalayan-chocolate-point.jpg - as ./images\\cat\\455aea0674.jpg\n",
      "SUCCESS - saved https://encrypted-tbn0.gstatic.com/images?q=tbn:ANd9GcRBi6q97nzVlCfH38XNNwxhBqGfWsj2G4-XJQ&usqp=CAU - as ./images\\cat\\ee78bbb112.jpg\n",
      "SUCCESS - saved https://encrypted-tbn0.gstatic.com/images?q=tbn:ANd9GcR48ivSfj5ffrq25JXBzNVE-3kbvHxEVKeDUw&usqp=CAU - as ./images\\cat\\0eb65d0efd.jpg\n",
      "SUCCESS - saved https://encrypted-tbn0.gstatic.com/images?q=tbn:ANd9GcTuoYbZ4ZKBvdzKBU8kroO3S7Yzgk_TD_aCEA&usqp=CAU - as ./images\\cat\\0499fb76ff.jpg\n",
      "SUCCESS - saved https://media-cldnry.s-nbcnews.com/image/upload/newscms/2021_26/3487828/210630-stock-cat-bed-ew-245p.jpg - as ./images\\cat\\8546f44208.jpg\n",
      "SUCCESS - saved https://encrypted-tbn0.gstatic.com/images?q=tbn:ANd9GcSNnf-OJywer7wmQ1DHy38hHnoipxv75HN7jw&usqp=CAU - as ./images\\cat\\cf01046cee.jpg\n",
      "SUCCESS - saved https://encrypted-tbn0.gstatic.com/images?q=tbn:ANd9GcQiVoiZydggUmHquDe6nc6zCJ6f5rxtcLK4Vw&usqp=CAU - as ./images\\cat\\fc51411dbc.jpg\n",
      "SUCCESS - saved https://www.cats.org.uk/media/2297/tabby-cat-looking-up.jpg?width=1600 - as ./images\\cat\\683959ee49.jpg\n",
      "SUCCESS - saved https://encrypted-tbn0.gstatic.com/images?q=tbn:ANd9GcTKrouEmI9zqj32K-4OKKRTu1VyDv_o-l6X6Q&usqp=CAU - as ./images\\cat\\92101defb0.jpg\n",
      "SUCCESS - saved https://encrypted-tbn0.gstatic.com/images?q=tbn:ANd9GcSbg7axWHhKI027UcraEUmUeuXmftmLLtkckA&usqp=CAU - as ./images\\cat\\e162cd9ffa.jpg\n",
      "SUCCESS - saved https://icatcare.org/app/uploads/2018/06/Layer-1704-1920x840.jpg - as ./images\\cat\\f2bdfd713b.jpg\n",
      "SUCCESS - saved https://encrypted-tbn0.gstatic.com/images?q=tbn:ANd9GcQN9tafDg4xKQHivdzDZ3BWLcgYJqLdCSIp3w&usqp=CAU - as ./images\\cat\\18dd5448ab.jpg\n",
      "SUCCESS - saved https://images.unsplash.com/photo-1615807713086-bfc4975801d0?ixlib=rb-1.2.1&ixid=MnwxMjA3fDB8MHxzZWFyY2h8MXx8Y2F0JTIwZmFjZXxlbnwwfHwwfHw%3D&w=1000&q=80 - as ./images\\cat\\fe07f3ee54.jpg\n"
     ]
    }
   ],
   "source": [
    "search_term = \"Cat\"\n",
    "\n",
    "search_and_download(\n",
    "    search_term=search_term,\n",
    "    driver_path = DRIVER_PATH\n",
    ")"
   ]
  },
  {
   "cell_type": "code",
   "execution_count": null,
   "id": "2a81f5cf",
   "metadata": {},
   "outputs": [],
   "source": []
  },
  {
   "cell_type": "code",
   "execution_count": null,
   "id": "5d4f86cf",
   "metadata": {},
   "outputs": [],
   "source": []
  }
 ],
 "metadata": {
  "kernelspec": {
   "display_name": "Python 3",
   "language": "python",
   "name": "python3"
  },
  "language_info": {
   "codemirror_mode": {
    "name": "ipython",
    "version": 3
   },
   "file_extension": ".py",
   "mimetype": "text/x-python",
   "name": "python",
   "nbconvert_exporter": "python",
   "pygments_lexer": "ipython3",
   "version": "3.8.8"
  }
 },
 "nbformat": 4,
 "nbformat_minor": 5
}
